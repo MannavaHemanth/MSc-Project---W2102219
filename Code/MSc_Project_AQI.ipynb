{
  "nbformat": 4,
  "nbformat_minor": 0,
  "metadata": {
    "colab": {
      "provenance": []
    },
    "kernelspec": {
      "name": "python3",
      "display_name": "Python 3"
    },
    "language_info": {
      "name": "python"
    }
  },
  "cells": [
    {
      "cell_type": "markdown",
      "source": [
        "# Importing and Loading"
      ],
      "metadata": {
        "id": "rLruiCnKjnTJ"
      }
    },
    {
      "cell_type": "code",
      "execution_count": null,
      "metadata": {
        "id": "7r3Wl_wESOSz"
      },
      "outputs": [],
      "source": [
        "import pandas as pd\n",
        "\n",
        "# Load datasets\n",
        "df_Bangalore = pd.read_csv(\"/content/Bangalore_AQI_Dataset.csv\")\n",
        "df_Chennai = pd.read_csv(\"/content/Chennai_AQI_Dataset.csv\")\n",
        "df_Delhi = pd.read_csv(\"/content/Delhi_AQI_Dataset.csv\")\n",
        "df_Hyderabad = pd.read_csv(\"/content/Hyderabad_AQI_Dataset.csv\")\n",
        "df_Mumbai = pd.read_csv(\"/content/Mumbai_AQI_Dataset.csv\")"
      ]
    },
    {
      "cell_type": "markdown",
      "source": [
        "# Combining Datafiles"
      ],
      "metadata": {
        "id": "lGI0UDbYjvsO"
      }
    },
    {
      "cell_type": "code",
      "source": [
        "combined_df = pd.concat([df_Bangalore, df_Chennai, df_Delhi, df_Hyderabad, df_Mumbai], ignore_index=True)"
      ],
      "metadata": {
        "id": "gEAqksBFU4q2"
      },
      "execution_count": null,
      "outputs": []
    },
    {
      "cell_type": "code",
      "source": [
        "combined_df['Date'] = pd.to_datetime(combined_df['Date'])"
      ],
      "metadata": {
        "colab": {
          "base_uri": "https://localhost:8080/"
        },
        "id": "-oA0yWQdU6zz",
        "outputId": "6223f859-2203-411c-8855-56ec32e02ed7"
      },
      "execution_count": null,
      "outputs": [
        {
          "output_type": "stream",
          "name": "stderr",
          "text": [
            "/tmp/ipython-input-4157075170.py:1: UserWarning: Could not infer format, so each element will be parsed individually, falling back to `dateutil`. To ensure parsing is consistent and as-expected, please specify a format.\n",
            "  combined_df['Date'] = pd.to_datetime(combined_df['Date'])\n"
          ]
        }
      ]
    },
    {
      "cell_type": "markdown",
      "source": [
        "# Converting to CSV"
      ],
      "metadata": {
        "id": "AOmjg3blj9K_"
      }
    },
    {
      "cell_type": "code",
      "source": [
        "combined_df.to_csv(\"/content/Combined_AQI_Data.csv\", index=False)\n",
        "from google.colab import files\n",
        "files.download(\"/content/Combined_AQI_Data.csv\")"
      ],
      "metadata": {
        "colab": {
          "base_uri": "https://localhost:8080/",
          "height": 17
        },
        "id": "INDVkMkgVJBl",
        "outputId": "ae2ec71e-8a89-49cb-b0d9-a86306c00d78"
      },
      "execution_count": null,
      "outputs": [
        {
          "output_type": "display_data",
          "data": {
            "text/plain": [
              "<IPython.core.display.Javascript object>"
            ],
            "application/javascript": [
              "\n",
              "    async function download(id, filename, size) {\n",
              "      if (!google.colab.kernel.accessAllowed) {\n",
              "        return;\n",
              "      }\n",
              "      const div = document.createElement('div');\n",
              "      const label = document.createElement('label');\n",
              "      label.textContent = `Downloading \"${filename}\": `;\n",
              "      div.appendChild(label);\n",
              "      const progress = document.createElement('progress');\n",
              "      progress.max = size;\n",
              "      div.appendChild(progress);\n",
              "      document.body.appendChild(div);\n",
              "\n",
              "      const buffers = [];\n",
              "      let downloaded = 0;\n",
              "\n",
              "      const channel = await google.colab.kernel.comms.open(id);\n",
              "      // Send a message to notify the kernel that we're ready.\n",
              "      channel.send({})\n",
              "\n",
              "      for await (const message of channel.messages) {\n",
              "        // Send a message to notify the kernel that we're ready.\n",
              "        channel.send({})\n",
              "        if (message.buffers) {\n",
              "          for (const buffer of message.buffers) {\n",
              "            buffers.push(buffer);\n",
              "            downloaded += buffer.byteLength;\n",
              "            progress.value = downloaded;\n",
              "          }\n",
              "        }\n",
              "      }\n",
              "      const blob = new Blob(buffers, {type: 'application/binary'});\n",
              "      const a = document.createElement('a');\n",
              "      a.href = window.URL.createObjectURL(blob);\n",
              "      a.download = filename;\n",
              "      div.appendChild(a);\n",
              "      a.click();\n",
              "      div.remove();\n",
              "    }\n",
              "  "
            ]
          },
          "metadata": {}
        },
        {
          "output_type": "display_data",
          "data": {
            "text/plain": [
              "<IPython.core.display.Javascript object>"
            ],
            "application/javascript": [
              "download(\"download_95ab7cd2-801b-4c95-a325-c35275856ef0\", \"Combined_AQI_Data.csv\", 915636)"
            ]
          },
          "metadata": {}
        }
      ]
    },
    {
      "cell_type": "markdown",
      "source": [
        "# Uploading Combined File"
      ],
      "metadata": {
        "id": "RDMpmOxOkepz"
      }
    },
    {
      "cell_type": "code",
      "source": [
        "df = pd.read_csv(\"/content/Combined_AQI_Data.csv\")"
      ],
      "metadata": {
        "id": "hOi0U4r2dJW2"
      },
      "execution_count": null,
      "outputs": []
    },
    {
      "cell_type": "markdown",
      "source": [
        "# Dropping Null Values"
      ],
      "metadata": {
        "id": "APup8pr6kwju"
      }
    },
    {
      "cell_type": "code",
      "source": [
        "df_cleaned = df.dropna(axis=1, how='all')"
      ],
      "metadata": {
        "id": "zQUlt8A_eMWP"
      },
      "execution_count": null,
      "outputs": []
    },
    {
      "cell_type": "markdown",
      "source": [
        "# Sorting the Data"
      ],
      "metadata": {
        "id": "05VsQd7uk6IQ"
      }
    },
    {
      "cell_type": "code",
      "source": [
        "df_cleaned['Date'] = pd.to_datetime(df_cleaned['Date'])\n",
        "df_cleaned = df_cleaned.sort_values(by=['City', 'Date'])"
      ],
      "metadata": {
        "colab": {
          "base_uri": "https://localhost:8080/"
        },
        "id": "du_KaInxeTfW",
        "outputId": "48c0362c-5ca7-4756-a7bd-fc69af470fd9"
      },
      "execution_count": null,
      "outputs": [
        {
          "output_type": "stream",
          "name": "stderr",
          "text": [
            "/tmp/ipython-input-3877938131.py:1: SettingWithCopyWarning: \n",
            "A value is trying to be set on a copy of a slice from a DataFrame.\n",
            "Try using .loc[row_indexer,col_indexer] = value instead\n",
            "\n",
            "See the caveats in the documentation: https://pandas.pydata.org/pandas-docs/stable/user_guide/indexing.html#returning-a-view-versus-a-copy\n",
            "  df_cleaned['Date'] = pd.to_datetime(df_cleaned['Date'])\n"
          ]
        }
      ]
    },
    {
      "cell_type": "markdown",
      "source": [
        "# Downloading the Final File"
      ],
      "metadata": {
        "id": "6ZvKdYwSk_aX"
      }
    },
    {
      "cell_type": "code",
      "source": [
        "df_cleaned.to_csv(\"Combined_AQI_Final_Cleaned.csv\", index=False)\n",
        "files.download(\"Combined_AQI_Final_Cleaned.csv\")"
      ],
      "metadata": {
        "colab": {
          "base_uri": "https://localhost:8080/",
          "height": 17
        },
        "id": "mBCFjrpPeVdl",
        "outputId": "0d425ba2-a7a6-4458-b51e-3de6f6aeeb07"
      },
      "execution_count": null,
      "outputs": [
        {
          "output_type": "display_data",
          "data": {
            "text/plain": [
              "<IPython.core.display.Javascript object>"
            ],
            "application/javascript": [
              "\n",
              "    async function download(id, filename, size) {\n",
              "      if (!google.colab.kernel.accessAllowed) {\n",
              "        return;\n",
              "      }\n",
              "      const div = document.createElement('div');\n",
              "      const label = document.createElement('label');\n",
              "      label.textContent = `Downloading \"${filename}\": `;\n",
              "      div.appendChild(label);\n",
              "      const progress = document.createElement('progress');\n",
              "      progress.max = size;\n",
              "      div.appendChild(progress);\n",
              "      document.body.appendChild(div);\n",
              "\n",
              "      const buffers = [];\n",
              "      let downloaded = 0;\n",
              "\n",
              "      const channel = await google.colab.kernel.comms.open(id);\n",
              "      // Send a message to notify the kernel that we're ready.\n",
              "      channel.send({})\n",
              "\n",
              "      for await (const message of channel.messages) {\n",
              "        // Send a message to notify the kernel that we're ready.\n",
              "        channel.send({})\n",
              "        if (message.buffers) {\n",
              "          for (const buffer of message.buffers) {\n",
              "            buffers.push(buffer);\n",
              "            downloaded += buffer.byteLength;\n",
              "            progress.value = downloaded;\n",
              "          }\n",
              "        }\n",
              "      }\n",
              "      const blob = new Blob(buffers, {type: 'application/binary'});\n",
              "      const a = document.createElement('a');\n",
              "      a.href = window.URL.createObjectURL(blob);\n",
              "      a.download = filename;\n",
              "      div.appendChild(a);\n",
              "      a.click();\n",
              "      div.remove();\n",
              "    }\n",
              "  "
            ]
          },
          "metadata": {}
        },
        {
          "output_type": "display_data",
          "data": {
            "text/plain": [
              "<IPython.core.display.Javascript object>"
            ],
            "application/javascript": [
              "download(\"download_4f7ba2fa-bf7a-478e-ba31-bb53e60e1a57\", \"Combined_AQI_Final_Cleaned.csv\", 751616)"
            ]
          },
          "metadata": {}
        }
      ]
    }
  ]
}